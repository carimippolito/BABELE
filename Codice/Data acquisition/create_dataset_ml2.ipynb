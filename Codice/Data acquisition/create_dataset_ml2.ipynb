{
 "cells": [
  {
   "cell_type": "code",
   "execution_count": 1,
   "metadata": {},
   "outputs": [],
   "source": [
    "missing_files = (\"1_1_2_6_25\", \"2_1_1_4_24\", \"2_1_1_6_24\", \"2_1_1_7_25\", \"2_2_1_5_30\", \"3_1_1_6_25\", \"3_1_2_4_30\", \"3_2_1_5_30\", \"4_1_2_8_25\", \"5_1_2_3_25\", \"6_1_2_2_30\", \"6_1_2_5_30\", \"6_2_1_2_25\",\n",
    "                 \"6_2_2_13_30\", \"6_2_2_6_30\")\n"
   ]
  },
  {
   "cell_type": "code",
   "execution_count": 2,
   "metadata": {},
   "outputs": [],
   "source": [
    "import os\n",
    "from sklearn.model_selection import train_test_split\n",
    "import pandas as pd\n",
    "import numpy as np\n",
    "\n",
    "\n",
    "FILENAME_PATH = r\"\"\n",
    "CSV_MANHATTAN_INPUT_PATH = r\"\"\n",
    "CSV_MANHATTAN_OUTPUT_PATH = r\"\"\n",
    "\n",
    "train_files = []\n",
    "\n",
    "for root, dirs, files in os.walk(FILENAME_PATH):\n",
    "    for filename in files:\n",
    "        if filename.endswith(\".mp4\"):\n",
    "            if filename.startswith(missing_files):\n",
    "                continue\n",
    "            else:\n",
    "                train_files.append(filename.split('.')[0])\n",
    "\n",
    "train_files, test_files = train_test_split(\n",
    "    train_files, test_size=0.2, random_state=42)\n",
    "\n",
    "train = []\n",
    "val = []\n",
    "test = []\n",
    "for filename in test_files:\n",
    "    for i in range(1, 6):\n",
    "        try:\n",
    "            t = pd.read_csv(CSV_MANHATTAN_INPUT_PATH + \"\\\\\" + filename +\n",
    "                            '_' + str(i) + \"_m.csv\", header=None).head(240)\n",
    "        except FileNotFoundError:\n",
    "            continue\n",
    "        t = t.to_numpy().flatten()\n",
    "        t = np.insert(t, 0, filename.replace(\"_\", \"\")).reshape(1, 6721)\n",
    "        if i >= 5:\n",
    "            test.append(t)\n",
    "        elif i >= 4:\n",
    "            val.append(t)\n",
    "        else:\n",
    "            train.append(t)\n",
    "\n",
    "train = np.concatenate(train, axis=0)\n",
    "val = np.concatenate(val, axis=0)\n",
    "test = np.concatenate(test, axis=0)\n",
    "\n",
    "np.random.seed(42)\n",
    "np.random.shuffle(train)\n",
    "np.random.shuffle(val)\n",
    "np.random.shuffle(test)\n"
   ]
  },
  {
   "cell_type": "code",
   "execution_count": 3,
   "metadata": {},
   "outputs": [],
   "source": [
    "os.chdir(CSV_MANHATTAN_OUTPUT_PATH)\n",
    "np.savetxt(\"train.csv\", train, fmt=\"%d\", delimiter=',')\n",
    "np.savetxt(\"val.csv\", val, fmt=\"%d\", delimiter=',')\n",
    "np.savetxt(\"test.csv\", test, fmt=\"%d\", delimiter=',')\n"
   ]
  },
  {
   "cell_type": "code",
   "execution_count": 4,
   "metadata": {},
   "outputs": [],
   "source": [
    "import os\n",
    "from sklearn.model_selection import train_test_split\n",
    "import pandas as pd\n",
    "import numpy as np\n",
    "\n",
    "\n",
    "FILENAME_PATH = r\"\"\n",
    "CSV_EUCLIDEAN_INPUT_PATH = r\"\"\n",
    "CSV_EUCLIDEAN_OUTPUT_PATH = r\"\"\n",
    "\n",
    "train_files = []\n",
    "\n",
    "for root, dirs, files in os.walk(FILENAME_PATH):\n",
    "    for filename in files:\n",
    "        if filename.endswith(\".mp4\"):\n",
    "            if filename.startswith(missing_files):\n",
    "                continue\n",
    "            else:\n",
    "                train_files.append(filename.split('.')[0])\n",
    "\n",
    "train_files, test_files = train_test_split(\n",
    "    train_files, test_size=0.2, random_state=42)\n",
    "\n",
    "train = []\n",
    "val = []\n",
    "test = []\n",
    "for filename in test_files:\n",
    "    for i in range(1, 6):\n",
    "        try:\n",
    "            t = pd.read_csv(CSV_EUCLIDEAN_INPUT_PATH + \"\\\\\" + filename +\n",
    "                            '_' + str(i) + \"_m.csv\", header=None).head(240)\n",
    "        except FileNotFoundError:\n",
    "            continue\n",
    "        t = t.to_numpy().flatten()\n",
    "        t = np.insert(t, 0, filename.replace(\"_\", \"\")).reshape(1, 6721)\n",
    "        if i >= 5:\n",
    "            test.append(t)\n",
    "        elif i >= 4:\n",
    "            val.append(t)\n",
    "        else:\n",
    "            train.append(t)\n",
    "\n",
    "train = np.concatenate(train, axis=0)\n",
    "val = np.concatenate(val, axis=0)\n",
    "test = np.concatenate(test, axis=0)\n",
    "\n",
    "np.random.seed(42)\n",
    "np.random.shuffle(train)\n",
    "np.random.shuffle(val)\n",
    "np.random.shuffle(test)\n"
   ]
  },
  {
   "cell_type": "code",
   "execution_count": 5,
   "metadata": {},
   "outputs": [],
   "source": [
    "os.chdir(CSV_EUCLIDEAN_OUTPUT_PATH)\n",
    "np.savetxt(\"train.csv\", train, fmt=\"%d\", delimiter=',')\n",
    "np.savetxt(\"val.csv\", val, fmt=\"%d\", delimiter=',')\n",
    "np.savetxt(\"test.csv\", test, fmt=\"%d\", delimiter=',')\n"
   ]
  }
 ],
 "metadata": {
  "kernelspec": {
   "display_name": "Python 3",
   "language": "python",
   "name": "python3"
  },
  "language_info": {
   "codemirror_mode": {
    "name": "ipython",
    "version": 3
   },
   "file_extension": ".py",
   "mimetype": "text/x-python",
   "name": "python",
   "nbconvert_exporter": "python",
   "pygments_lexer": "ipython3",
   "version": "3.8.10 (tags/v3.8.10:3d8993a, May  3 2021, 11:48:03) [MSC v.1928 64 bit (AMD64)]"
  },
  "orig_nbformat": 4,
  "vscode": {
   "interpreter": {
    "hash": "2dcb512a14c7d49ce34f8f8f62c46fae7107524fb2d4d624362cf2d61c94d296"
   }
  }
 },
 "nbformat": 4,
 "nbformat_minor": 2
}
