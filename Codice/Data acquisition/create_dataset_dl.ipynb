{
 "cells": [
  {
   "cell_type": "code",
   "execution_count": 1,
   "metadata": {},
   "outputs": [],
   "source": [
    "missing_files = (\"1_1_2_6_25\", \"2_1_1_4_24\", \"2_1_1_6_24\", \"2_1_1_7_25\", \"2_2_1_5_30\", \"3_1_1_6_25\", \"3_1_2_4_30\", \"3_2_1_5_30\", \"4_1_2_8_25\", \"5_1_2_3_25\", \"6_1_2_2_30\", \"6_1_2_5_30\", \"6_2_1_2_25\",\n",
    "                 \"6_2_2_13_30\", \"6_2_2_6_30\")\n"
   ]
  },
  {
   "cell_type": "code",
   "execution_count": 2,
   "metadata": {},
   "outputs": [],
   "source": [
    "import os\n",
    "from sklearn.model_selection import train_test_split\n",
    "import numpy as np\n",
    "import cv2\n",
    "\n",
    "FILENAME_PATH = r\"\"\n",
    "CSV_VIDEO_INPUT_PATH = r\"\"\n",
    "CSV_IMAGE_OUTPUT_PATH = r\"\"\n",
    "\n",
    "train_files = []\n",
    "\n",
    "for root, dirs, files in os.walk(FILENAME_PATH):\n",
    "    for filename in files:\n",
    "        if filename.endswith(\".mp4\"):\n",
    "            if filename.startswith(missing_files):\n",
    "                continue\n",
    "            else:\n",
    "                train_files.append(filename.split('.')[0])\n",
    "\n",
    "train_files, test_files = train_test_split(\n",
    "    train_files, test_size=0.2, random_state=42)\n",
    "\n",
    "train = []\n",
    "val = []\n",
    "test = []\n",
    "for filename in test_files:\n",
    "    cap = cv2.VideoCapture(CSV_VIDEO_INPUT_PATH + \"\\\\\" + filename +\n",
    "                           '_' + str(1) + \"_m.avi\")\n",
    "    f = 0\n",
    "    j = 2\n",
    "    while cap.isOpened() and j <= 11:\n",
    "        ret, image = cap.read()\n",
    "        if ret != True:\n",
    "            break\n",
    "\n",
    "        if f % 24 == 0:\n",
    "            image = cv2.resize(image, (150, 100),\n",
    "                               interpolation=cv2.INTER_CUBIC)\n",
    "            image = cv2.cvtColor(image, cv2.COLOR_BGR2RGB)\n",
    "            image = image.flatten()\n",
    "            image = image.astype(np.int32)\n",
    "            image = np.insert(image, 0, filename.replace(\n",
    "                \"_\", \"\")).reshape(1, 45001)\n",
    "\n",
    "            if j % 5 == 0:\n",
    "                test.append(image)\n",
    "            elif j % 2 == 0:\n",
    "                train.append(image)\n",
    "            elif j % 3 == 0:\n",
    "                val.append(image)\n",
    "            else:\n",
    "                train.append(image)\n",
    "            j += 1\n",
    "\n",
    "        f += 1\n",
    "\n",
    "    cap.release()\n",
    "\n",
    "train = np.concatenate(train, axis=0)\n",
    "val = np.concatenate(val, axis=0)\n",
    "test = np.concatenate(test, axis=0)\n",
    "\n",
    "np.random.seed(42)\n",
    "np.random.shuffle(train)\n",
    "np.random.shuffle(val)\n",
    "np.random.shuffle(test)\n"
   ]
  },
  {
   "cell_type": "code",
   "execution_count": 3,
   "metadata": {},
   "outputs": [],
   "source": [
    "os.chdir(CSV_IMAGE_OUTPUT_PATH)\n",
    "np.savetxt(\"train.csv\", train, fmt=\"%d\", delimiter=',')\n",
    "np.savetxt(\"val.csv\", val, fmt=\"%d\", delimiter=',')\n",
    "np.savetxt(\"test.csv\", test, fmt=\"%d\", delimiter=',')\n"
   ]
  }
 ],
 "metadata": {
  "kernelspec": {
   "display_name": "Python 3.8.10 64-bit",
   "language": "python",
   "name": "python3"
  },
  "language_info": {
   "codemirror_mode": {
    "name": "ipython",
    "version": 3
   },
   "file_extension": ".py",
   "mimetype": "text/x-python",
   "name": "python",
   "nbconvert_exporter": "python",
   "pygments_lexer": "ipython3",
   "version": "3.8.10 (tags/v3.8.10:3d8993a, May  3 2021, 11:48:03) [MSC v.1928 64 bit (AMD64)]"
  },
  "orig_nbformat": 4,
  "vscode": {
   "interpreter": {
    "hash": "2dcb512a14c7d49ce34f8f8f62c46fae7107524fb2d4d624362cf2d61c94d296"
   }
  }
 },
 "nbformat": 4,
 "nbformat_minor": 2
}
