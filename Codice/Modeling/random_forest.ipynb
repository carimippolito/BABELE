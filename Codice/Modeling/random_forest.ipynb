{
 "cells": [
  {
   "cell_type": "code",
   "execution_count": 1,
   "metadata": {},
   "outputs": [],
   "source": [
    "import pandas as pd\n",
    "from sklearn.model_selection import train_test_split\n",
    "import numpy as np\n",
    "\n",
    "CSV_MANHATTAN_INPUT_PATH = r\"\"\n",
    "CSV_EUCLIDEAN_INPUT_PATH = r\"\"\n",
    "\n",
    "x_train_m28 = pd.read_csv(CSV_MANHATTAN_INPUT_PATH +\n",
    "                          r\"\\28 distanze\\train.csv\", header=None)\n",
    "x_test_m28 = pd.read_csv(CSV_MANHATTAN_INPUT_PATH +\n",
    "                         r\"\\28 distanze\\test.csv\", header=None)\n",
    "y_train_m28 = x_train_m28.iloc[:, 0]\n",
    "x_train_m28 = x_train_m28.drop(0, axis=1)\n",
    "y_test_m28 = x_test_m28.iloc[:, 0]\n",
    "x_test_m28 = x_test_m28.drop(0, axis=1)\n",
    "\n",
    "x_val_m28, x_test_m28, y_val_m28, y_test_m28 = train_test_split(\n",
    "    x_test_m28, y_test_m28, test_size=0.5, random_state=42)\n",
    "\n",
    "cv = [([*range(0, y_train_m28.shape[0])],\n",
    "       [*range(y_train_m28.shape[0], y_train_m28.shape[0] + y_val_m28.shape[0])])]\n",
    "\n",
    "y_train_m28 = np.concatenate((y_train_m28, y_val_m28), axis=0, dtype=np.int32)\n",
    "x_train_m28 = np.concatenate(\n",
    "    (x_train_m28, x_val_m28), axis=0, dtype=np.float32)\n",
    "y_test_m28 = y_test_m28.to_numpy(np.int32)\n",
    "x_test_m28 = x_test_m28.to_numpy(np.float32)\n",
    "\n",
    "\n",
    "x_train_m24 = pd.read_csv(CSV_MANHATTAN_INPUT_PATH +\n",
    "                          r\"\\24 distanze\\train.csv\", header=None)\n",
    "x_test_m24 = pd.read_csv(CSV_MANHATTAN_INPUT_PATH +\n",
    "                         r\"\\24 distanze\\test.csv\", header=None)\n",
    "y_train_m24 = x_train_m24.iloc[:, 0]\n",
    "x_train_m24 = x_train_m24.drop(0, axis=1)\n",
    "y_test_m24 = x_test_m24.iloc[:, 0]\n",
    "x_test_m24 = x_test_m24.drop(0, axis=1)\n",
    "\n",
    "x_val_m24, x_test_m24, y_val_m24, y_test_m24 = train_test_split(\n",
    "    x_test_m24, y_test_m24, test_size=0.5, random_state=42)\n",
    "\n",
    "y_train_m24 = np.concatenate((y_train_m24, y_val_m24), axis=0, dtype=np.int32)\n",
    "x_train_m24 = np.concatenate(\n",
    "    (x_train_m24, x_val_m24), axis=0, dtype=np.float32)\n",
    "y_test_m24 = y_test_m24.to_numpy(np.int32)\n",
    "x_test_m24 = x_test_m24.to_numpy(np.float32)\n",
    "\n",
    "\n",
    "x_train_e28 = pd.read_csv(CSV_EUCLIDEAN_INPUT_PATH +\n",
    "                          r\"\\28 distanze\\train.csv\", header=None)\n",
    "x_test_e28 = pd.read_csv(CSV_EUCLIDEAN_INPUT_PATH +\n",
    "                         r\"\\28 distanze\\test.csv\", header=None)\n",
    "y_train_e28 = x_train_e28.iloc[:, 0]\n",
    "x_train_e28 = x_train_e28.drop(0, axis=1)\n",
    "y_test_e28 = x_test_e28.iloc[:, 0]\n",
    "x_test_e28 = x_test_e28.drop(0, axis=1)\n",
    "\n",
    "x_val_e28, x_test_e28, y_val_e28, y_test_e28 = train_test_split(\n",
    "    x_test_e28, y_test_e28, test_size=0.5, random_state=42)\n",
    "\n",
    "y_train_e28 = np.concatenate((y_train_e28, y_val_e28), axis=0, dtype=np.int32)\n",
    "x_train_e28 = np.concatenate(\n",
    "    (x_train_e28, x_val_e28), axis=0, dtype=np.float32)\n",
    "y_test_e28 = y_test_e28.to_numpy(np.int32)\n",
    "x_test_e28 = x_test_e28.to_numpy(np.float32)\n",
    "\n",
    "\n",
    "x_train_e24 = pd.read_csv(CSV_EUCLIDEAN_INPUT_PATH +\n",
    "                          r\"\\24 distanze\\train.csv\", header=None)\n",
    "x_test_e24 = pd.read_csv(CSV_EUCLIDEAN_INPUT_PATH +\n",
    "                         r\"\\24 distanze\\test.csv\", header=None)\n",
    "y_train_e24 = x_train_e24.iloc[:, 0]\n",
    "x_train_e24 = x_train_e24.drop(0, axis=1)\n",
    "y_test_e24 = x_test_e24.iloc[:, 0]\n",
    "x_test_e24 = x_test_e24.drop(0, axis=1)\n",
    "\n",
    "x_val_e24, x_test_e24, y_val_e24, y_test_e24 = train_test_split(\n",
    "    x_test_e24, y_test_e24, test_size=0.5, random_state=42)\n",
    "\n",
    "y_train_e24 = np.concatenate((y_train_e24, y_val_e24), axis=0, dtype=np.int32)\n",
    "x_train_e24 = np.concatenate(\n",
    "    (x_train_e24, x_val_e24), axis=0, dtype=np.float32)\n",
    "y_test_e24 = y_test_e24.to_numpy(np.int32)\n",
    "x_test_e24 = x_test_e24.to_numpy(np.float32)\n",
    "\n",
    "datasets = {\n",
    "    \"manhattan28\": [x_train_m28, y_train_m28, x_test_m28, y_test_m28],\n",
    "    \"manhattan24\": [x_train_m24, y_train_m24, x_test_m24, y_test_m24],\n",
    "    \"euclidea28\": [x_train_e28, y_train_e28, x_test_e28, y_test_e28],\n",
    "    \"euclidea24\": [x_train_e24, y_train_e24, x_test_e24, y_test_e24]\n",
    "}\n"
   ]
  },
  {
   "cell_type": "code",
   "execution_count": 2,
   "metadata": {},
   "outputs": [],
   "source": [
    "import mlflow\n",
    "from sklearn.preprocessing import StandardScaler\n",
    "from sklearn.ensemble import RandomForestClassifier\n",
    "from sklearn.decomposition import PCA\n",
    "from sklearn.pipeline import Pipeline\n",
    "from sklearn.model_selection import GridSearchCV\n",
    "\n",
    "EXPERIMENT_NAME = \"forest\"\n",
    "\n",
    "mlflow.set_experiment(EXPERIMENT_NAME)\n",
    "experiment = mlflow.get_experiment_by_name(EXPERIMENT_NAME)\n",
    "\n",
    "scaler = StandardScaler()\n",
    "forest = RandomForestClassifier(random_state=42)\n",
    "pipe = Pipeline(steps=[(\"scaler\", scaler), (\"pca\", PCA()), (\"forest\", forest)])\n",
    "\n",
    "parameters = {\n",
    "    \"pca\": [\"passthrough\", PCA(0.95, random_state=42), PCA(0.99, random_state=42)],\n",
    "    \"forest__n_estimators\": [100, 200, 300, 400, 500]\n",
    "}\n",
    "\n",
    "clf = GridSearchCV(pipe, parameters, scoring=\"accuracy\", n_jobs=3, cv=cv)\n",
    "for key, dataset in datasets.items():\n",
    "    with mlflow.start_run(experiment_id=experiment.experiment_id, nested=True):\n",
    "        clf.fit(dataset[0], dataset[1])\n",
    "\n",
    "        mlflow.log_param(\"dataset\", key)\n",
    "        if (type(clf.best_estimator_[\"pca\"]) == str):\n",
    "            mlflow.log_param(\"pca\", clf.best_estimator_[\"pca\"])\n",
    "        else:\n",
    "            mlflow.log_param(\"pca\", clf.best_estimator_[\"pca\"].n_components)\n",
    "        mlflow.log_param(\"forest__n_estimators\",\n",
    "                         clf.best_estimator_[\"forest\"].n_estimators)\n",
    "\n",
    "        for i in range(len((clf.cv_results_[\"mean_test_score\"]))):\n",
    "            with mlflow.start_run(experiment_id=experiment.experiment_id, nested=True):\n",
    "                mlflow.log_param(\"dataset\", key)\n",
    "                if (type(clf.cv_results_[\"param_pca\"][i]) == str):\n",
    "                    mlflow.log_param(\"pca\", clf.cv_results_[\"param_pca\"][i])\n",
    "                else:\n",
    "                    mlflow.log_param(\"pca\", clf.cv_results_[\n",
    "                                     \"param_pca\"][i].n_components)\n",
    "                mlflow.log_param(\"forest__n_estimators\", clf.cv_results_[\n",
    "                                 \"param_forest__n_estimators\"][i])\n",
    "                mlflow.log_metric(\"mean_fit_time\", clf.cv_results_[\n",
    "                                  \"mean_fit_time\"][i])\n",
    "                mlflow.log_metric(\"mean_score_time\", clf.cv_results_[\n",
    "                                  \"mean_score_time\"][i])\n",
    "                mlflow.log_metric(\"mean_test_score\", clf.cv_results_[\n",
    "                                  \"mean_test_score\"][i])\n"
   ]
  },
  {
   "cell_type": "code",
   "execution_count": 3,
   "metadata": {},
   "outputs": [
    {
     "name": "stdout",
     "output_type": "stream",
     "text": [
      "[('scaler', StandardScaler()), ('pca', 'passthrough'), ('forest', RandomForestClassifier(n_estimators=400, random_state=42))]\n",
      "0.4666666666666667\n"
     ]
    }
   ],
   "source": [
    "\"\"\" from sklearn.inspection import permutation_importance\n",
    "\n",
    "parameters = {\n",
    "    \"pca\": [\"passthrough\"],\n",
    "    \"forest__n_estimators\": [100, 200, 300, 400, 500]\n",
    "}\n",
    "\n",
    "clf = GridSearchCV(pipe, parameters, scoring=\"accuracy\", cv=cv)\n",
    "clf.fit(datasets[\"manhattan28\"][0], datasets[\"manhattan28\"][1])\n",
    "print(clf.best_estimator_.steps)\n",
    "print(clf.score(datasets[\"manhattan28\"][2], datasets[\"manhattan28\"][3]))\n",
    "\n",
    "feature_names = [f\"feature {i}\" for i in range(\n",
    "    datasets[\"manhattan28\"][0].shape[1])]\n",
    "result = permutation_importance(\n",
    "    clf, datasets[\"manhattan28\"][2], datasets[\"manhattan28\"][3], n_repeats=10, random_state=42, n_jobs=-1)\n",
    "forest_importances = pd.Series(result.importances_mean, index=feature_names)\n",
    "\n",
    "feature_names = list(range(1, 29))\n",
    "std = [0] * 28\n",
    "for i, s in enumerate(result.importances_std):\n",
    "    std[i % len(std)] = std[i % len(std)] + s**2\n",
    "std = np.sqrt(std)\n",
    "std = pd.Series(std, index=feature_names)\n",
    "mean = [0] * 28\n",
    "for i, m in enumerate(result.importances_mean):\n",
    "    mean[i % len(mean)] = mean[i % len(mean)] + m\n",
    "mean = pd.Series(mean, index=feature_names)\n",
    " \"\"\"\n"
   ]
  },
  {
   "cell_type": "code",
   "execution_count": 4,
   "metadata": {},
   "outputs": [
    {
     "data": {
      "image/png": "[encoded data removed]",
      "text/plain": [
       "<Figure size 432x288 with 1 Axes>"
      ]
     },
     "metadata": {
      "needs_background": "light"
     },
     "output_type": "display_data"
    }
   ],
   "source": [
    "\"\"\" import matplotlib.pyplot as plt\n",
    "\n",
    "fig, ax = plt.subplots()\n",
    "mean.plot.bar(yerr=std, ax=ax)\n",
    "ax.set_title(\n",
    "    \"Feature importances using permutation on full model (Manhattan28)\")\n",
    "ax.set_ylabel(\"Mean accuracy decrease\")\n",
    "fig.tight_layout()\n",
    "plt.show()\n",
    " \"\"\"\n"
   ]
  },
  {
   "cell_type": "code",
   "execution_count": 5,
   "metadata": {},
   "outputs": [
    {
     "name": "stdout",
     "output_type": "stream",
     "text": [
      "[('scaler', StandardScaler()), ('pca', 'passthrough'), ('forest', RandomForestClassifier(n_estimators=200, random_state=42))]\n",
      "0.45555555555555555\n"
     ]
    }
   ],
   "source": [
    "\"\"\" from sklearn.inspection import permutation_importance\n",
    "\n",
    "parameters = {\n",
    "    \"pca\": [\"passthrough\"],\n",
    "    \"forest__n_estimators\": [100, 200, 300, 400, 500]\n",
    "}\n",
    "\n",
    "clf = GridSearchCV(pipe, parameters, scoring=\"accuracy\", cv=cv)\n",
    "clf.fit(datasets[\"euclidea28\"][0], datasets[\"euclidea28\"][1])\n",
    "print(clf.best_estimator_.steps)\n",
    "print(clf.score(datasets[\"euclidea28\"][2], datasets[\"euclidea28\"][3]))\n",
    "\n",
    "feature_names = [f\"feature {i}\" for i in range(\n",
    "    datasets[\"euclidea28\"][0].shape[1])]\n",
    "result = permutation_importance(\n",
    "    clf, datasets[\"euclidea28\"][2], datasets[\"euclidea28\"][3], n_repeats=10, random_state=42, n_jobs=-1)\n",
    "forest_importances = pd.Series(result.importances_mean, index=feature_names)\n",
    "\n",
    "feature_names = list(range(1, 29))\n",
    "std = [0] * 28\n",
    "for i, s in enumerate(result.importances_std):\n",
    "    std[i % len(std)] = std[i % len(std)] + s**2\n",
    "std = np.sqrt(std)\n",
    "std = pd.Series(std, index=feature_names)\n",
    "mean = [0] * 28\n",
    "for i, m in enumerate(result.importances_mean):\n",
    "    mean[i % len(mean)] = mean[i % len(mean)] + m\n",
    "mean = pd.Series(mean, index=feature_names)\n",
    " \"\"\"\n"
   ]
  },
  {
   "cell_type": "code",
   "execution_count": 6,
   "metadata": {},
   "outputs": [
    {
     "data": {
      "image/png": "[encoded data removed]",
      "text/plain": [
       "<Figure size 432x288 with 1 Axes>"
      ]
     },
     "metadata": {
      "needs_background": "light"
     },
     "output_type": "display_data"
    }
   ],
   "source": [
    "\"\"\" import matplotlib.pyplot as plt\n",
    "\n",
    "fig, ax = plt.subplots()\n",
    "mean.plot.bar(yerr=std, ax=ax)\n",
    "ax.set_title(\n",
    "    \"Feature importances using permutation on full model (Euclidean28)\")\n",
    "ax.set_ylabel(\"Mean accuracy decrease\")\n",
    "fig.tight_layout()\n",
    "plt.show()\n",
    " \"\"\"\n"
   ]
  },
  {
   "cell_type": "code",
   "execution_count": 7,
   "metadata": {},
   "outputs": [
    {
     "name": "stdout",
     "output_type": "stream",
     "text": [
      "0.4222222222222222\n"
     ]
    }
   ],
   "source": [
    "\"\"\" pipe = Pipeline(steps=[(\"scaler\", StandardScaler()), (\"pca\", PCA(\n",
    "    0.95, random_state=42)), (\"forest\", RandomForestClassifier(300, random_state=42))])\n",
    "\n",
    "pipe.fit(datasets[\"manhattan28\"][0][:len(cv[0][0]) - 1][:],\n",
    "         datasets[\"manhattan28\"][1][:len(cv[0][0]) - 1][:])\n",
    "print(pipe.score(datasets[\"manhattan28\"][2], datasets[\"manhattan28\"][3]))\n",
    " \"\"\"\n"
   ]
  },
  {
   "cell_type": "code",
   "execution_count": 8,
   "metadata": {},
   "outputs": [
    {
     "data": {
      "text/plain": [
       "['filename.joblib']"
      ]
     },
     "execution_count": 8,
     "metadata": {},
     "output_type": "execute_result"
    }
   ],
   "source": [
    "\"\"\" import os\n",
    "from joblib import dump\n",
    "\n",
    "MODEL__PATH = r\"\"\n",
    "\n",
    "version = \"v1.1\"\n",
    "\n",
    "os.chdir(MODEL__PATH.format(type=type, version=version))\n",
    "dump(pipe, \"filename.joblib\")\n",
    " \"\"\"\n"
   ]
  }
 ],
 "metadata": {
  "kernelspec": {
   "display_name": "Python 3",
   "language": "python",
   "name": "python3"
  },
  "language_info": {
   "codemirror_mode": {
    "name": "ipython",
    "version": 3
   },
   "file_extension": ".py",
   "mimetype": "text/x-python",
   "name": "python",
   "nbconvert_exporter": "python",
   "pygments_lexer": "ipython3",
   "version": "3.8.10 (tags/v3.8.10:3d8993a, May  3 2021, 11:48:03) [MSC v.1928 64 bit (AMD64)]"
  },
  "orig_nbformat": 4,
  "vscode": {
   "interpreter": {
    "hash": "2dcb512a14c7d49ce34f8f8f62c46fae7107524fb2d4d624362cf2d61c94d296"
   }
  }
 },
 "nbformat": 4,
 "nbformat_minor": 2
}
