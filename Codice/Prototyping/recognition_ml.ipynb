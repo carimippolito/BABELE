{
 "cells": [
  {
   "cell_type": "code",
   "execution_count": 1,
   "metadata": {},
   "outputs": [
    {
     "name": "stdout",
     "output_type": "stream",
     "text": [
      "x_test: (36, 6720) float32\n",
      "y_test: (36,) int32\n"
     ]
    }
   ],
   "source": [
    "import pandas as pd\n",
    "import numpy as np\n",
    "\n",
    "CSV_MANHATTAN_INPUT_PATH = r\"\"\n",
    "\n",
    "x_test_e28 = pd.read_csv(CSV_MANHATTAN_INPUT_PATH +\n",
    "                         r\"\\28 distanze\\test2.csv\", header=None)\n",
    "y_test_e28 = x_test_e28.iloc[:, 0]\n",
    "x_test_e28 = x_test_e28.drop(0, axis=1)\n",
    "y_test_e28 = y_test_e28.to_numpy(np.int32)\n",
    "x_test_e28 = x_test_e28.to_numpy(np.float32)\n",
    "\n",
    "print(\"x_test:\", x_test_e28.shape, x_test_e28.dtype)\n",
    "print(\"y_test:\", y_test_e28.shape, y_test_e28.dtype)\n"
   ]
  },
  {
   "cell_type": "code",
   "execution_count": 2,
   "metadata": {},
   "outputs": [
    {
     "name": "stdout",
     "output_type": "stream",
     "text": [
      "x_test: (36, 6720) float32\n",
      "y_test: (36,) int32\n"
     ]
    }
   ],
   "source": [
    "import pandas as pd\n",
    "import numpy as np\n",
    "\n",
    "CSV_MANHATTAN_INPUT_PATH = r\"\"\n",
    "\n",
    "x_test_e = pd.read_csv(CSV_MANHATTAN_INPUT_PATH +\n",
    "                       r\"\\test.csv\", header=None)\n",
    "y_test_e = x_test_e.iloc[:, 0]\n",
    "x_test_e = x_test_e.drop(0, axis=1)\n",
    "\n",
    "y_test_e = y_test_e.to_numpy(np.int32)\n",
    "x_test_e = x_test_e.to_numpy(np.float32)\n",
    "\n",
    "print(\"x_test:\", x_test_e.shape, x_test_e.dtype)\n",
    "print(\"y_test:\", y_test_e.shape, y_test_e.dtype)\n"
   ]
  },
  {
   "cell_type": "code",
   "execution_count": 3,
   "metadata": {},
   "outputs": [
    {
     "name": "stdout",
     "output_type": "stream",
     "text": [
      "61.111111111111114\n",
      "66.66666666666667\n"
     ]
    }
   ],
   "source": [
    "from joblib import load\n",
    "\n",
    "MODEL2_INPUT_PATH = r\"\"\n",
    "MODEL_INPUT_PATH = r\"\"\n",
    "\n",
    "\n",
    "labels = np.unique(y_test_e)\n",
    "\n",
    "y_test_l = np.select([y_test_e == label for label in labels],\n",
    "                     [*range(len(labels))])\n",
    "\n",
    "\n",
    "clf2 = load(MODEL2_INPUT_PATH + \"\\\\ml\\\\v1.0\\\\filename.joblib\")\n",
    "\n",
    "accuracy = clf2.score(x_test_e, y_test_l)\n",
    "print(accuracy * 100)\n",
    "\n",
    "clf = load(MODEL_INPUT_PATH + \"\\\\ml\\\\v1.0\\\\filename.joblib\")\n",
    "\n",
    "prediction = []\n",
    "temp = []\n",
    "for i, id in enumerate(y_test_e):\n",
    "    temp_ml2 = clf2.predict_proba(x_test_e[i].reshape(-1, 6720))\n",
    "    temp_ml = clf.predict_proba(x_test_e28[np.where(y_test_e28 == id)])[0]\n",
    "    for j, label in enumerate(labels):\n",
    "        t = (temp_ml2[0][j] * 0.80) + (temp_ml[int(str(label)[:1]) - 1] * 0.20)\n",
    "        temp.append(t)\n",
    "        \"\"\" print(temp_ml2[0][j])\n",
    "        print(temp_ml[int(str(label)[:1]) - 1])\n",
    "        print(t)\n",
    "        print(\"\\n\") \"\"\"\n",
    "    prediction.append(np.array(temp).argmax())\n",
    "    temp.clear()\n",
    "\n",
    "correct = np.count_nonzero(labels[prediction] == y_test_e)\n",
    "accuracy = correct * 100.0 / y_test_e.size\n",
    "print(accuracy)\n"
   ]
  }
 ],
 "metadata": {
  "kernelspec": {
   "display_name": "Python 3",
   "language": "python",
   "name": "python3"
  },
  "language_info": {
   "codemirror_mode": {
    "name": "ipython",
    "version": 3
   },
   "file_extension": ".py",
   "mimetype": "text/x-python",
   "name": "python",
   "nbconvert_exporter": "python",
   "pygments_lexer": "ipython3",
   "version": "3.8.10 (tags/v3.8.10:3d8993a, May  3 2021, 11:48:03) [MSC v.1928 64 bit (AMD64)]"
  },
  "orig_nbformat": 4,
  "vscode": {
   "interpreter": {
    "hash": "2dcb512a14c7d49ce34f8f8f62c46fae7107524fb2d4d624362cf2d61c94d296"
   }
  }
 },
 "nbformat": 4,
 "nbformat_minor": 2
}
