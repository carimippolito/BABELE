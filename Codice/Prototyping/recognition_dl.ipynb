{
 "cells": [
  {
   "cell_type": "code",
   "execution_count": 1,
   "metadata": {},
   "outputs": [
    {
     "name": "stdout",
     "output_type": "stream",
     "text": [
      "x_test: (36, 6720) float32\n",
      "y_test: (36,) int32\n"
     ]
    }
   ],
   "source": [
    "import pandas as pd\n",
    "import numpy as np\n",
    "\n",
    "CSV_MANHATTAN_INPUT_PATH = r\"\"\n",
    "\n",
    "x_test_e28 = pd.read_csv(CSV_MANHATTAN_INPUT_PATH +\n",
    "                         r\"\\28 distanze\\test2.csv\", header=None)\n",
    "y_test_e28 = x_test_e28.iloc[:, 0]\n",
    "x_test_e28 = x_test_e28.drop(0, axis=1)\n",
    "y_test_e28 = y_test_e28.to_numpy(np.int32)\n",
    "x_test_e28 = x_test_e28.to_numpy(np.float32)\n",
    "\n",
    "print(\"x_test:\", x_test_e28.shape, x_test_e28.dtype)\n",
    "print(\"y_test:\", y_test_e28.shape, y_test_e28.dtype)\n"
   ]
  },
  {
   "cell_type": "code",
   "execution_count": 2,
   "metadata": {},
   "outputs": [
    {
     "name": "stdout",
     "output_type": "stream",
     "text": [
      "x_test: (72, 100, 150, 3) float32\n",
      "y_test: (72,) int32\n"
     ]
    }
   ],
   "source": [
    "CSV_IMAGE_INPUT_PATH = r\"\"\n",
    "\n",
    "x_train = pd.read_csv(CSV_IMAGE_INPUT_PATH + \"\\\\\" + \"train.csv\", header=None)\n",
    "x_test = pd.read_csv(CSV_IMAGE_INPUT_PATH + \"\\\\\" + \"test.csv\", header=None)\n",
    "y_train = x_train.iloc[:, 0]\n",
    "x_train = x_train.drop(0, axis=1)\n",
    "y_test = x_test.iloc[:, 0]\n",
    "x_test = x_test.drop(0, axis=1)\n",
    "\n",
    "y_train = y_train.to_numpy(np.int32)\n",
    "x_train = x_train.to_numpy(np.float32)\n",
    "y_test = y_test.to_numpy(np.int32)\n",
    "x_test = x_test.to_numpy(np.float32)\n",
    "\n",
    "x_train = x_train.reshape(x_train.shape[0], 100, 150, -1)\n",
    "x_test = x_test.reshape(x_test.shape[0], 100, 150, -1)\n",
    "\n",
    "mean_pixel = x_train.mean(axis=(0, 1, 2), keepdims=True)\n",
    "std_pixel = x_train.std(axis=(0, 1, 2), keepdims=True)\n",
    "x_test = (x_test - mean_pixel) / std_pixel\n",
    "\n",
    "print(\"x_test:\", x_test.shape, x_test.dtype)\n",
    "print(\"y_test:\", y_test.shape, y_test.dtype)\n"
   ]
  },
  {
   "cell_type": "code",
   "execution_count": 3,
   "metadata": {},
   "outputs": [
    {
     "name": "stdout",
     "output_type": "stream",
     "text": [
      "81.94444444444444\n",
      "81.94444444444444\n"
     ]
    }
   ],
   "source": [
    "from tensorflow import keras\n",
    "from joblib import load\n",
    "\n",
    "MODEL_INPUT_PATH = r\"\"\n",
    "\n",
    "labels = np.unique(y_train)\n",
    "\n",
    "model = keras.models.load_model(MODEL_INPUT_PATH + \"\\\\dl\\\\v1.0\")\n",
    "prediction_dl = model.predict(x_test.reshape(-1, 100, 150, 3))\n",
    "\n",
    "correct = np.count_nonzero(labels[prediction_dl.argmax(axis=1)] == y_test)\n",
    "accuracy = correct * 100.0 / y_test.size\n",
    "print(accuracy)\n",
    "\n",
    "clf = load(MODEL_INPUT_PATH + \"\\\\ml\\\\v1.0\\\\filename.joblib\")\n",
    "\n",
    "prediction = []\n",
    "temp = []\n",
    "for i, id in enumerate(y_test):\n",
    "    temp_dl = model.predict(x_test[i].reshape(-1, 100, 150, 3))[0]\n",
    "    temp_ml = clf.predict_proba(x_test_e28[np.where(y_test_e28 == id)])[0]\n",
    "    for j, label in enumerate(labels):\n",
    "        t = (temp_dl[j] * 0.80) + (temp_ml[int(str(label)[:1]) - 1] * 0.20)\n",
    "        temp.append(t)\n",
    "        \"\"\" print(temp_dl[j])\n",
    "        print(temp_ml[int(str(label)[:1]) - 1])\n",
    "        print(t)\n",
    "        print(\"\\n\") \"\"\"\n",
    "    prediction.append(np.array(temp).argmax())\n",
    "    temp.clear()\n",
    "\n",
    "correct = np.count_nonzero(labels[prediction] == y_test)\n",
    "accuracy = correct * 100.0 / y_test.size\n",
    "print(accuracy)\n"
   ]
  }
 ],
 "metadata": {
  "kernelspec": {
   "display_name": "Python 3.8.10 64-bit",
   "language": "python",
   "name": "python3"
  },
  "language_info": {
   "codemirror_mode": {
    "name": "ipython",
    "version": 3
   },
   "file_extension": ".py",
   "mimetype": "text/x-python",
   "name": "python",
   "nbconvert_exporter": "python",
   "pygments_lexer": "ipython3",
   "version": "3.8.10 (tags/v3.8.10:3d8993a, May  3 2021, 11:48:03) [MSC v.1928 64 bit (AMD64)]"
  },
  "orig_nbformat": 4,
  "vscode": {
   "interpreter": {
    "hash": "2dcb512a14c7d49ce34f8f8f62c46fae7107524fb2d4d624362cf2d61c94d296"
   }
  }
 },
 "nbformat": 4,
 "nbformat_minor": 2
}
