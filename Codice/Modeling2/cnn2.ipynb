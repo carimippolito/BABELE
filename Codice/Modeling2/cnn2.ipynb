{
 "cells": [
  {
   "cell_type": "code",
   "execution_count": 1,
   "metadata": {},
   "outputs": [
    {
     "name": "stdout",
     "output_type": "stream",
     "text": [
      "Using device: /device:GPU:0\n"
     ]
    }
   ],
   "source": [
    "USE_GPU = True\n",
    "\n",
    "if USE_GPU:\n",
    "    device = \"/device:GPU:0\"\n",
    "else:\n",
    "    device = \"/CPU:0\"\n",
    "\n",
    "print(\"Using device:\", device)\n"
   ]
  },
  {
   "cell_type": "code",
   "execution_count": 2,
   "metadata": {},
   "outputs": [
    {
     "name": "stdout",
     "output_type": "stream",
     "text": [
      "x_train: (216, 100, 150, 3) float32\n",
      "y_train: (216,) int32\n",
      "x_val: (72, 100, 150, 3) float32\n",
      "y_val: (72,) int32\n",
      "x_test: (72, 100, 150, 3) float32\n",
      "y_test: (72,) int32\n"
     ]
    }
   ],
   "source": [
    "import pandas as pd\n",
    "import numpy as np\n",
    "\n",
    "CSV_IMAGE_INPUT_PATH = r\"\"\n",
    "\n",
    "x_train = pd.read_csv(CSV_IMAGE_INPUT_PATH + \"\\\\\" + \"train.csv\", header=None)\n",
    "x_val = pd.read_csv(CSV_IMAGE_INPUT_PATH + \"\\\\\" + \"val.csv\", header=None)\n",
    "x_test = pd.read_csv(CSV_IMAGE_INPUT_PATH + \"\\\\\" + \"test.csv\", header=None)\n",
    "y_train = x_train.iloc[:, 0]\n",
    "x_train = x_train.drop(0, axis=1)\n",
    "y_val = x_val.iloc[:, 0]\n",
    "x_val = x_val.drop(0, axis=1)\n",
    "y_test = x_test.iloc[:, 0]\n",
    "x_test = x_test.drop(0, axis=1)\n",
    "\n",
    "y_train = y_train.to_numpy(np.int32)\n",
    "x_train = x_train.to_numpy(np.float32)\n",
    "y_val = y_val.to_numpy(np.int32)\n",
    "x_val = x_val.to_numpy(np.float32)\n",
    "y_test = y_test.to_numpy(np.int32)\n",
    "x_test = x_test.to_numpy(np.float32)\n",
    "\n",
    "x_train = x_train.reshape(x_train.shape[0], 100, 150, -1)\n",
    "x_val = x_val.reshape(x_val.shape[0], 100, 150, -1)\n",
    "x_test = x_test.reshape(x_test.shape[0], 100, 150, -1)\n",
    "\n",
    "mean_pixel = x_train.mean(axis=(0, 1, 2), keepdims=True)\n",
    "std_pixel = x_train.std(axis=(0, 1, 2), keepdims=True)\n",
    "x_train = (x_train - mean_pixel) / std_pixel\n",
    "x_val = (x_val - mean_pixel) / std_pixel\n",
    "x_test = (x_test - mean_pixel) / std_pixel\n",
    "\n",
    "print(\"x_train:\", x_train.shape, x_train.dtype)\n",
    "print(\"y_train:\", y_train.shape, y_train.dtype)\n",
    "print(\"x_val:\", x_val.shape, x_val.dtype)\n",
    "print(\"y_val:\", y_val.shape, y_val.dtype)\n",
    "print(\"x_test:\", x_test.shape, x_test.dtype)\n",
    "print(\"y_test:\", y_test.shape, y_test.dtype)\n"
   ]
  },
  {
   "cell_type": "code",
   "execution_count": 3,
   "metadata": {},
   "outputs": [],
   "source": [
    "labels = np.unique(y_train)\n",
    "\n",
    "y_train = np.select([y_train == label for label in labels], [\n",
    "                    *range(len(labels))])\n",
    "y_val = np.select([y_val == label for label in labels], [*range(len(labels))])\n",
    "y_test = np.select([y_test == label for label in labels],\n",
    "                   [*range(len(labels))])\n"
   ]
  },
  {
   "cell_type": "code",
   "execution_count": 4,
   "metadata": {},
   "outputs": [
    {
     "name": "stdout",
     "output_type": "stream",
     "text": [
      "Model: \"sequential\"\n",
      "_________________________________________________________________\n",
      " Layer (type)                Output Shape              Param #   \n",
      "=================================================================\n",
      " conv2d (Conv2D)             (None, 100, 150, 16)      448       \n",
      "                                                                 \n",
      " max_pooling2d (MaxPooling2D  (None, 50, 75, 16)       0         \n",
      " )                                                               \n",
      "                                                                 \n",
      " dropout (Dropout)           (None, 50, 75, 16)        0         \n",
      "                                                                 \n",
      " flatten (Flatten)           (None, 60000)             0         \n",
      "                                                                 \n",
      " dense (Dense)               (None, 32)                1920032   \n",
      "                                                                 \n",
      " dense_1 (Dense)             (None, 36)                1188      \n",
      "                                                                 \n",
      "=================================================================\n",
      "Total params: 1,921,668\n",
      "Trainable params: 1,921,668\n",
      "Non-trainable params: 0\n",
      "_________________________________________________________________\n"
     ]
    }
   ],
   "source": [
    "from tensorflow import keras\n",
    "from tensorflow.keras import layers\n",
    "\n",
    "input_shape = (100, 150, 3)\n",
    "num_classes = len(labels)\n",
    "\n",
    "model = keras.Sequential()\n",
    "model.add(layers.Conv2D(16, (3, 3), padding=\"same\",\n",
    "          activation=\"relu\", input_shape=input_shape))\n",
    "model.add(layers.MaxPooling2D())\n",
    "model.add(layers.Dropout(0.2))\n",
    "model.add(layers.Flatten())\n",
    "model.add(layers.Dense(32, activation=\"relu\"))\n",
    "model.add(layers.Dense(num_classes, activation=\"softmax\"))\n",
    "\n",
    "model.summary()\n"
   ]
  },
  {
   "cell_type": "code",
   "execution_count": 5,
   "metadata": {},
   "outputs": [
    {
     "name": "stdout",
     "output_type": "stream",
     "text": [
      "Epoch 1/20\n",
      "7/7 [==============================] - 3s 41ms/step - loss: 6.2930 - accuracy: 0.0602 - val_loss: 3.6662 - val_accuracy: 0.1389\n",
      "Epoch 2/20\n",
      "7/7 [==============================] - 0s 10ms/step - loss: 3.1550 - accuracy: 0.1343 - val_loss: 3.2278 - val_accuracy: 0.1111\n",
      "Epoch 3/20\n",
      "7/7 [==============================] - 0s 10ms/step - loss: 2.9341 - accuracy: 0.1111 - val_loss: 2.7619 - val_accuracy: 0.1667\n",
      "Epoch 4/20\n",
      "7/7 [==============================] - 0s 10ms/step - loss: 2.4378 - accuracy: 0.2037 - val_loss: 2.4917 - val_accuracy: 0.2639\n",
      "Epoch 5/20\n",
      "7/7 [==============================] - 0s 9ms/step - loss: 2.2413 - accuracy: 0.2963 - val_loss: 2.1711 - val_accuracy: 0.3056\n",
      "Epoch 6/20\n",
      "7/7 [==============================] - 0s 9ms/step - loss: 1.9385 - accuracy: 0.4120 - val_loss: 1.9975 - val_accuracy: 0.3611\n",
      "Epoch 7/20\n",
      "7/7 [==============================] - 0s 9ms/step - loss: 1.7436 - accuracy: 0.4815 - val_loss: 1.8460 - val_accuracy: 0.4583\n",
      "Epoch 8/20\n",
      "7/7 [==============================] - 0s 10ms/step - loss: 1.5710 - accuracy: 0.5000 - val_loss: 1.5810 - val_accuracy: 0.5417\n",
      "Epoch 9/20\n",
      "7/7 [==============================] - 0s 10ms/step - loss: 1.3166 - accuracy: 0.6204 - val_loss: 1.3959 - val_accuracy: 0.5278\n",
      "Epoch 10/20\n",
      "7/7 [==============================] - 0s 10ms/step - loss: 1.1160 - accuracy: 0.6713 - val_loss: 1.2187 - val_accuracy: 0.6250\n",
      "Epoch 11/20\n",
      "7/7 [==============================] - 0s 10ms/step - loss: 0.9069 - accuracy: 0.7593 - val_loss: 1.0532 - val_accuracy: 0.6944\n",
      "Epoch 12/20\n",
      "7/7 [==============================] - 0s 10ms/step - loss: 0.7591 - accuracy: 0.8194 - val_loss: 0.9341 - val_accuracy: 0.7222\n",
      "Epoch 13/20\n",
      "7/7 [==============================] - 0s 10ms/step - loss: 0.6333 - accuracy: 0.8519 - val_loss: 0.7964 - val_accuracy: 0.7778\n",
      "Epoch 14/20\n",
      "7/7 [==============================] - 0s 10ms/step - loss: 0.5460 - accuracy: 0.8750 - val_loss: 0.7713 - val_accuracy: 0.7778\n",
      "Epoch 15/20\n",
      "7/7 [==============================] - 0s 10ms/step - loss: 0.4561 - accuracy: 0.9120 - val_loss: 0.6654 - val_accuracy: 0.8056\n",
      "Epoch 16/20\n",
      "7/7 [==============================] - 0s 9ms/step - loss: 0.3827 - accuracy: 0.9306 - val_loss: 0.6138 - val_accuracy: 0.8472\n",
      "Epoch 17/20\n",
      "7/7 [==============================] - 0s 10ms/step - loss: 0.3162 - accuracy: 0.9398 - val_loss: 0.5579 - val_accuracy: 0.8750\n",
      "Epoch 18/20\n",
      "7/7 [==============================] - 0s 9ms/step - loss: 0.2642 - accuracy: 0.9352 - val_loss: 0.5123 - val_accuracy: 0.8611\n",
      "Epoch 19/20\n",
      "7/7 [==============================] - 0s 9ms/step - loss: 0.2337 - accuracy: 0.9352 - val_loss: 0.5197 - val_accuracy: 0.8333\n",
      "Epoch 20/20\n",
      "7/7 [==============================] - 0s 9ms/step - loss: 0.2065 - accuracy: 0.9352 - val_loss: 0.4724 - val_accuracy: 0.8750\n"
     ]
    }
   ],
   "source": [
    "model.compile(optimizer=\"adam\", loss=keras.losses.SparseCategoricalCrossentropy(\n",
    "    from_logits=False), metrics=[\"accuracy\"])\n",
    "history = model.fit(x_train, y_train, batch_size=None, epochs=20,\n",
    "                    validation_data=(x_val, y_val))\n"
   ]
  },
  {
   "cell_type": "code",
   "execution_count": 6,
   "metadata": {},
   "outputs": [
    {
     "data": {
      "image/png": "[encoded data removed]",
      "text/plain": [
       "<Figure size 432x288 with 1 Axes>"
      ]
     },
     "metadata": {
      "needs_background": "light"
     },
     "output_type": "display_data"
    }
   ],
   "source": [
    "import matplotlib.pyplot as plt\n",
    "\n",
    "plt.plot(history.history[\"accuracy\"])\n",
    "plt.plot(history.history[\"val_accuracy\"])\n",
    "plt.xlabel(\"epoch\")\n",
    "plt.ylabel(\"accuracy\")\n",
    "plt.title(\"Training and validation accuracy\")\n",
    "plt.legend([\"Training accuracy\", \"Validation accuracy\"])\n",
    "plt.show()\n"
   ]
  },
  {
   "cell_type": "code",
   "execution_count": 7,
   "metadata": {},
   "outputs": [
    {
     "data": {
      "image/png": "[encoded data removed]",
      "text/plain": [
       "<Figure size 432x288 with 1 Axes>"
      ]
     },
     "metadata": {
      "needs_background": "light"
     },
     "output_type": "display_data"
    }
   ],
   "source": [
    "plt.plot(history.history[\"loss\"])\n",
    "plt.plot(history.history[\"val_loss\"])\n",
    "plt.xlabel(\"epoch\")\n",
    "plt.ylabel(\"loss\")\n",
    "plt.title(\"Training and validation loss\")\n",
    "plt.legend([\"Training loss\", \"Validation loss\"])\n",
    "plt.show()\n"
   ]
  },
  {
   "cell_type": "code",
   "execution_count": 8,
   "metadata": {},
   "outputs": [
    {
     "name": "stdout",
     "output_type": "stream",
     "text": [
      "3/3 [==============================] - 0s 3ms/step - loss: 0.5664 - accuracy: 0.8194\n",
      "Test accuracy: 0.8194444179534912\n"
     ]
    }
   ],
   "source": [
    "\"\"\" test_loss, test_accuracy = model.evaluate(x_test, y_test)\n",
    "print(\"Test accuracy:\", test_accuracy)\n",
    " \"\"\"\n"
   ]
  },
  {
   "cell_type": "code",
   "execution_count": 9,
   "metadata": {},
   "outputs": [
    {
     "name": "stdout",
     "output_type": "stream",
     "text": [
      "INFO:tensorflow:Assets written to: C:\\Users\\carim\\Desktop\\University\\Fondamenti di visione artificiale e biometria\\Progetto\\Codice\\Modeling\\models\\dl\\v1.0\\assets\n"
     ]
    }
   ],
   "source": [
    "\"\"\" MODEL__PATH = r\"\"\n",
    "\n",
    "version = \"v1.0\"\n",
    "model.save(MODEL__PATH.format(type=type, version=version))\n",
    " \"\"\"\n"
   ]
  }
 ],
 "metadata": {
  "kernelspec": {
   "display_name": "Python 3.8.10 64-bit",
   "language": "python",
   "name": "python3"
  },
  "language_info": {
   "codemirror_mode": {
    "name": "ipython",
    "version": 3
   },
   "file_extension": ".py",
   "mimetype": "text/x-python",
   "name": "python",
   "nbconvert_exporter": "python",
   "pygments_lexer": "ipython3",
   "version": "3.8.10 (tags/v3.8.10:3d8993a, May  3 2021, 11:48:03) [MSC v.1928 64 bit (AMD64)]"
  },
  "orig_nbformat": 4,
  "vscode": {
   "interpreter": {
    "hash": "2dcb512a14c7d49ce34f8f8f62c46fae7107524fb2d4d624362cf2d61c94d296"
   }
  }
 },
 "nbformat": 4,
 "nbformat_minor": 2
}
